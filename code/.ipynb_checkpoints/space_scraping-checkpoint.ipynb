{
 "cells": [
  {
   "cell_type": "code",
   "execution_count": 1,
   "metadata": {},
   "outputs": [],
   "source": [
    "import requests\n",
    "import pandas as pd\n",
    "import time"
   ]
  },
  {
   "cell_type": "code",
   "execution_count": 2,
   "metadata": {},
   "outputs": [],
   "source": [
    "base_url = \"https://api.pushshift.io/reddit/search/comment\"\n",
    "space_params = {\n",
    "    \"subreddit\": \"space\",\n",
    "    \"size\": 500,\n",
    "}"
   ]
  },
  {
   "cell_type": "code",
   "execution_count": 3,
   "metadata": {},
   "outputs": [],
   "source": [
    "space_res = requests.get(base_url, space_params)\n",
    "space_data = space_res.json()\n",
    "space_posts = space_data[\"data\"]\n",
    "\n",
    "MAX = 19 # number of times to update parameters and grab 500 posts after the initial batch of 500\n",
    "\n",
    "for i in range(MAX):\n",
    "    space_params[\"before\"] = space_posts[499*(i+1)][\"created_utc\"]\n",
    "    # get the next 500 newest posts by setting this to the created_utc of the oldest post in the 500 already collected\n",
    "    space_res = requests.get(base_url, space_params)\n",
    "    # make another request with the updated parameters\n",
    "    space_data = space_res.json()\n",
    "    # make a json object (dict) of the new request\n",
    "    for j in range(len(space_data[\"data\"])):\n",
    "        space_posts.append(space_data[\"data\"][j])\n",
    "    # append each post (item) in the new dict to the list of posts element by element; maybe there's a faster way to do this\n",
    "    time.sleep(2)\n",
    "    # sleep for 2 seconds to avoid making requests too quickly"
   ]
  },
  {
   "cell_type": "code",
   "execution_count": 5,
   "metadata": {},
   "outputs": [
    {
     "data": {
      "text/plain": [
       "10000"
      ]
     },
     "execution_count": 5,
     "metadata": {},
     "output_type": "execute_result"
    }
   ],
   "source": [
    "len(space_posts)"
   ]
  },
  {
   "cell_type": "code",
   "execution_count": 11,
   "metadata": {},
   "outputs": [
    {
     "data": {
      "text/plain": [
       "'Did... did you even click the links?'"
      ]
     },
     "execution_count": 11,
     "metadata": {},
     "output_type": "execute_result"
    }
   ],
   "source": [
    "space_posts[5000][\"body\"]"
   ]
  },
  {
   "cell_type": "code",
   "execution_count": 12,
   "metadata": {},
   "outputs": [],
   "source": [
    "space_df = pd.DataFrame(space_posts)"
   ]
  },
  {
   "cell_type": "code",
   "execution_count": 13,
   "metadata": {},
   "outputs": [],
   "source": [
    "space_df.to_csv(\"../data/space_posts.csv\")"
   ]
  }
 ],
 "metadata": {
  "kernelspec": {
   "display_name": "Python 3",
   "language": "python",
   "name": "python3"
  },
  "language_info": {
   "codemirror_mode": {
    "name": "ipython",
    "version": 3
   },
   "file_extension": ".py",
   "mimetype": "text/x-python",
   "name": "python",
   "nbconvert_exporter": "python",
   "pygments_lexer": "ipython3",
   "version": "3.7.6"
  }
 },
 "nbformat": 4,
 "nbformat_minor": 4
}
