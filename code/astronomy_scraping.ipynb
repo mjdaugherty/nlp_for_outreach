{
 "cells": [
  {
   "cell_type": "code",
   "execution_count": 1,
   "metadata": {},
   "outputs": [],
   "source": [
    "import requests\n",
    "import pandas as pd\n",
    "import time"
   ]
  },
  {
   "cell_type": "code",
   "execution_count": 2,
   "metadata": {},
   "outputs": [],
   "source": [
    "base_url = \"https://api.pushshift.io/reddit/search/comment\"\n",
    "astro_params = {\n",
    "    \"subreddit\": \"astronomy\",\n",
    "    \"size\": 500,\n",
    "}"
   ]
  },
  {
   "cell_type": "code",
   "execution_count": 3,
   "metadata": {},
   "outputs": [],
   "source": [
    "astro_res = requests.get(base_url, astro_params)\n",
    "astro_data = astro_res.json()\n",
    "astro_posts = astro_data[\"data\"]\n",
    "\n",
    "MAX = 19 # number of times to update parameters and grab 500 posts after the initial batch of 500\n",
    "\n",
    "for i in range(MAX):\n",
    "    astro_params[\"before\"] = astro_posts[499*(i+1)][\"created_utc\"]\n",
    "    # get the next 500 newest posts by setting this to the created_utc of the oldest post in the 500 already collected\n",
    "    astro_res = requests.get(base_url, astro_params)\n",
    "    # make another request with the updated parameters\n",
    "    astro_data = astro_res.json()\n",
    "    # make a json object (dict) of the new request\n",
    "    for j in range(len(astro_data[\"data\"])):\n",
    "        astro_posts.append(astro_data[\"data\"][j])\n",
    "    # append each post (item) in the new dict to the list of posts element by element; maybe there's a faster way to do this\n",
    "    time.sleep(2)\n",
    "    # sleep for 2 seconds to avoid making requests too quickly"
   ]
  },
  {
   "cell_type": "code",
   "execution_count": 4,
   "metadata": {},
   "outputs": [
    {
     "data": {
      "text/plain": [
       "10000"
      ]
     },
     "execution_count": 4,
     "metadata": {},
     "output_type": "execute_result"
    }
   ],
   "source": [
    "len(astro_posts) # make sure it worked"
   ]
  },
  {
   "cell_type": "code",
   "execution_count": 5,
   "metadata": {},
   "outputs": [
    {
     "data": {
      "text/plain": [
       "'\"Artifact\" implies it\\'s not real though- this is a genuine background source. :)\\n\\nBut yes, I agree.  My favorite Hubble image is[ this one](https://en.wikipedia.org/wiki/Tadpole_Galaxy#/media/File:UGC_10214HST.jpg) because of all the little background galaxies visible in it.'"
      ]
     },
     "execution_count": 5,
     "metadata": {},
     "output_type": "execute_result"
    }
   ],
   "source": [
    "astro_posts[10][\"body\"] # look at one of the posts"
   ]
  },
  {
   "cell_type": "code",
   "execution_count": 6,
   "metadata": {},
   "outputs": [],
   "source": [
    "astro_df = pd.DataFrame(astro_posts)"
   ]
  },
  {
   "cell_type": "code",
   "execution_count": 7,
   "metadata": {},
   "outputs": [],
   "source": [
    "astro_df.to_csv(\"../data/astronomy_posts.csv\")"
   ]
  }
 ],
 "metadata": {
  "kernelspec": {
   "display_name": "Python 3",
   "language": "python",
   "name": "python3"
  },
  "language_info": {
   "codemirror_mode": {
    "name": "ipython",
    "version": 3
   },
   "file_extension": ".py",
   "mimetype": "text/x-python",
   "name": "python",
   "nbconvert_exporter": "python",
   "pygments_lexer": "ipython3",
   "version": "3.7.6"
  }
 },
 "nbformat": 4,
 "nbformat_minor": 4
}
